{
 "cells": [
  {
   "cell_type": "code",
   "execution_count": null,
   "metadata": {
    "vscode": {
     "languageId": "r"
    }
   },
   "outputs": [],
   "source": [
    "#基于R语言lavaan包（结构方程模型法）\n",
    "rm(list=ls())\n",
    "data = read.csv(\"DATA.csv\")\n",
    "library(lavaan)\n",
    "library(semPlot)\n",
    "library(semTools)\n",
    "model<-\"Y ~  b*MN + c' * X \n",
    "       M ~ a * X\n",
    "       indirect := a * b\n",
    "       c := c' + (a * b)\n",
    "       \"\n",
    "fit <- sem(model,data,test = \"bootstrap\",se = \"bootstrap\",verbose = T, bootstrap = 5000)\n",
    "summary(fit)#,standardized=TRUE\n",
    "fitMeasures(fit,c(\"chisq\",\"df\",\"pvalue\",\"cfi\",\"gfi\",\"rmsea\",\"srmr\"))\n",
    "parameterEstimates(fit,boot.ci.type = \"bca.simple\",level = .95, ci = TRUE)\n",
    "semPaths(fit,color = \"lightblue\",whatLabels = \"est\",edge.label.cex = 1.5,label.cex = 2,layout = \"tree2\")"
   ]
  },
  {
   "cell_type": "code",
   "execution_count": null,
   "metadata": {
    "vscode": {
     "languageId": "r"
    }
   },
   "outputs": [],
   "source": [
    "#基于mediation包(回归法)\n",
    "library(mediation)\n",
    "\n",
    "model1 = lm(Y ~ X)\n",
    "summary(model1)\n",
    "model2 = lm(M ~ X)\n",
    "summary(model2)\n",
    "model3 = lm(Y ~ X + M)\n",
    "summary(model3)\n",
    "\n",
    "results = mediate(model2, model3, treat='X', mediator=\"M\", boot = T)\n",
    "summary(results)\n",
    "plot(results)"
   ]
  }
 ],
 "metadata": {
  "kernelspec": {
   "display_name": "R",
   "language": "R",
   "name": "ir"
  },
  "language_info": {
   "name": "R"
  },
  "orig_nbformat": 4
 },
 "nbformat": 4,
 "nbformat_minor": 2
}
