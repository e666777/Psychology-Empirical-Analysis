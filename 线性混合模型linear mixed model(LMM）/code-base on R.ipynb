{
 "cells": [
  {
   "cell_type": "code",
   "execution_count": 35,
   "metadata": {
    "vscode": {
     "languageId": "r"
    }
   },
   "outputs": [],
   "source": [
    "library(lme4)\n",
    "library(lmerTest)"
   ]
  },
  {
   "cell_type": "code",
   "execution_count": 36,
   "metadata": {
    "vscode": {
     "languageId": "r"
    }
   },
   "outputs": [],
   "source": [
    "DATA <- read.csv(\"All.csv\")"
   ]
  },
  {
   "cell_type": "code",
   "execution_count": 37,
   "metadata": {
    "vscode": {
     "languageId": "r"
    }
   },
   "outputs": [
    {
     "data": {
      "text/plain": [
       "Linear mixed model fit by REML. t-tests use Satterthwaite's method [\n",
       "lmerModLmerTest]\n",
       "Formula: HW ~ 1 + (1 | edu)\n",
       "   Data: DATA\n",
       "\n",
       "REML criterion at convergence: 1681.3\n",
       "\n",
       "Scaled residuals: \n",
       "    Min      1Q  Median      3Q     Max \n",
       "-4.3371 -0.4050  0.2527  0.7600  1.7087 \n",
       "\n",
       "Random effects:\n",
       " Groups   Name        Variance Std.Dev.\n",
       " edu      (Intercept) 0.01159  0.1077  \n",
       " Residual             1.02751  1.0137  \n",
       "Number of obs: 585, groups:  edu, 5\n",
       "\n",
       "Fixed effects:\n",
       "            Estimate Std. Error       df t value Pr(>|t|)\n",
       "(Intercept) -0.04820    0.07922  0.67531  -0.609    0.687"
      ]
     },
     "metadata": {},
     "output_type": "display_data"
    }
   ],
   "source": [
    "#零模型\n",
    "model1 <- lmer(HW ~ 1 + (1 | edu), data=DATA) \n",
    "summary(model1)"
   ]
  },
  {
   "cell_type": "code",
   "execution_count": 38,
   "metadata": {
    "vscode": {
     "languageId": "r"
    }
   },
   "outputs": [
    {
     "name": "stderr",
     "output_type": "stream",
     "text": [
      "boundary (singular) fit: see help('isSingular')\n",
      "\n"
     ]
    },
    {
     "data": {
      "text/plain": [
       "Linear mixed model fit by REML. t-tests use Satterthwaite's method [\n",
       "lmerModLmerTest]\n",
       "Formula: HW ~ RL + (1 | edu)\n",
       "   Data: DATA\n",
       "\n",
       "REML criterion at convergence: 1212.4\n",
       "\n",
       "Scaled residuals: \n",
       "    Min      1Q  Median      3Q     Max \n",
       "-5.5029 -0.3957  0.1694  0.5183  2.9637 \n",
       "\n",
       "Random effects:\n",
       " Groups   Name        Variance Std.Dev.\n",
       " edu      (Intercept) 0.0000   0.0000  \n",
       " Residual             0.4584   0.6771  \n",
       "Number of obs: 585, groups:  edu, 5\n",
       "\n",
       "Fixed effects:\n",
       "              Estimate Std. Error         df t value Pr(>|t|)    \n",
       "(Intercept) -5.857e-11  2.799e-02  5.830e+02    0.00        1    \n",
       "RL           7.913e-01  2.928e-02  5.830e+02   27.02   <2e-16 ***\n",
       "---\n",
       "Signif. codes:  0 '***' 0.001 '**' 0.01 '*' 0.05 '.' 0.1 ' ' 1\n",
       "\n",
       "Correlation of Fixed Effects:\n",
       "   (Intr)\n",
       "RL 0.000 \n",
       "optimizer (nloptwrap) convergence code: 0 (OK)\n",
       "boundary (singular) fit: see help('isSingular')\n"
      ]
     },
     "metadata": {},
     "output_type": "display_data"
    }
   ],
   "source": [
    "#随机截距模型\n",
    "model2<- lmer(HW ~ RL + (1 | edu), data=DATA) \n",
    "summary(model2)"
   ]
  },
  {
   "cell_type": "code",
   "execution_count": 39,
   "metadata": {
    "vscode": {
     "languageId": "r"
    }
   },
   "outputs": [
    {
     "data": {
      "text/plain": [
       "Linear mixed model fit by REML. t-tests use Satterthwaite's method [\n",
       "lmerModLmerTest]\n",
       "Formula: HW ~ RL + (RL | edu)\n",
       "   Data: DATA\n",
       "\n",
       "REML criterion at convergence: 1206.6\n",
       "\n",
       "Scaled residuals: \n",
       "    Min      1Q  Median      3Q     Max \n",
       "-5.5628 -0.4122  0.1391  0.5382  3.0230 \n",
       "\n",
       "Random effects:\n",
       " Groups   Name        Variance Std.Dev. Corr\n",
       " edu      (Intercept) 0.002153 0.0464       \n",
       "          RL          0.030730 0.1753   0.45\n",
       " Residual             0.448789 0.6699       \n",
       "Number of obs: 585, groups:  edu, 5\n",
       "\n",
       "Fixed effects:\n",
       "            Estimate Std. Error       df t value Pr(>|t|)   \n",
       "(Intercept) -0.02746    0.04139  0.41502  -0.663  0.71823   \n",
       "RL           0.75093    0.09126  3.60084   8.228  0.00185 **\n",
       "---\n",
       "Signif. codes:  0 '***' 0.001 '**' 0.01 '*' 0.05 '.' 0.1 ' ' 1\n",
       "\n",
       "Correlation of Fixed Effects:\n",
       "   (Intr)\n",
       "RL 0.258 "
      ]
     },
     "metadata": {},
     "output_type": "display_data"
    }
   ],
   "source": [
    "#混合效应模型\n",
    "model3 <- lmer(HW ~ RL + (RL|edu), data=DATA) \n",
    "summary(model3)"
   ]
  },
  {
   "cell_type": "code",
   "execution_count": 40,
   "metadata": {
    "vscode": {
     "languageId": "r"
    }
   },
   "outputs": [
    {
     "data": {
      "text/plain": [
       "Linear mixed model fit by REML. t-tests use Satterthwaite's method [\n",
       "lmerModLmerTest]\n",
       "Formula: HW ~ RL * edu + (RL | edu)\n",
       "   Data: DATA\n",
       "\n",
       "REML criterion at convergence: 1213\n",
       "\n",
       "Scaled residuals: \n",
       "    Min      1Q  Median      3Q     Max \n",
       "-5.5646 -0.4219  0.1401  0.5407  3.1095 \n",
       "\n",
       "Random effects:\n",
       " Groups   Name        Variance Std.Dev. Corr \n",
       " edu      (Intercept) 0.003366 0.05801       \n",
       "          RL          0.037161 0.19277  -0.81\n",
       " Residual             0.448983 0.67006       \n",
       "Number of obs: 585, groups:  edu, 5\n",
       "\n",
       "Fixed effects:\n",
       "            Estimate Std. Error       df t value Pr(>|t|)  \n",
       "(Intercept) -0.21974    0.16875  3.43768  -1.302   0.2733  \n",
       "RL           0.68512    0.24665  3.27288   2.778   0.0626 .\n",
       "edu          0.06942    0.05205  4.83662   1.334   0.2416  \n",
       "RL:edu       0.02402    0.07403  3.30900   0.324   0.7650  \n",
       "---\n",
       "Signif. codes:  0 '***' 0.001 '**' 0.01 '*' 0.05 '.' 0.1 ' ' 1\n",
       "\n",
       "Correlation of Fixed Effects:\n",
       "       (Intr) RL     edu   \n",
       "RL     -0.142              \n",
       "edu    -0.968  0.109       \n",
       "RL:edu  0.118 -0.919 -0.136"
      ]
     },
     "metadata": {},
     "output_type": "display_data"
    }
   ],
   "source": [
    "#混合效应模型-含有交互项\n",
    "model3 <- lmer(HW ~ RL*edu + (RL|edu), data=DATA) \n",
    "summary(model3)"
   ]
  },
  {
   "cell_type": "code",
   "execution_count": 41,
   "metadata": {
    "vscode": {
     "languageId": "r"
    }
   },
   "outputs": [],
   "source": [
    "#提一嘴三层的嵌套模型，比如学校-班级-个人\n",
    "#语法与二层相似：lmer(y~x1 + x2 + (x1|A/B), data)"
   ]
  },
  {
   "cell_type": "code",
   "execution_count": 42,
   "metadata": {
    "vscode": {
     "languageId": "r"
    }
   },
   "outputs": [
    {
     "name": "stderr",
     "output_type": "stream",
     "text": [
      "refitting model(s) with ML (instead of REML)\n",
      "\n"
     ]
    },
    {
     "data": {
      "text/html": [
       "<table class=\"dataframe\">\n",
       "<caption>A anova: 2 × 8</caption>\n",
       "<thead>\n",
       "\t<tr><th></th><th scope=col>npar</th><th scope=col>AIC</th><th scope=col>BIC</th><th scope=col>logLik</th><th scope=col>deviance</th><th scope=col>Chisq</th><th scope=col>Df</th><th scope=col>Pr(&gt;Chisq)</th></tr>\n",
       "\t<tr><th></th><th scope=col>&lt;dbl&gt;</th><th scope=col>&lt;dbl&gt;</th><th scope=col>&lt;dbl&gt;</th><th scope=col>&lt;dbl&gt;</th><th scope=col>&lt;dbl&gt;</th><th scope=col>&lt;dbl&gt;</th><th scope=col>&lt;dbl&gt;</th><th scope=col>&lt;dbl&gt;</th></tr>\n",
       "</thead>\n",
       "<tbody>\n",
       "\t<tr><th scope=row>model1</th><td>3</td><td>1682.925</td><td>1696.040</td><td>-838.4624</td><td>1676.925</td><td>      NA</td><td>NA</td><td>           NA</td></tr>\n",
       "\t<tr><th scope=row>model2</th><td>4</td><td>1209.902</td><td>1227.389</td><td>-600.9512</td><td>1201.902</td><td>475.0222</td><td> 1</td><td>2.587638e-105</td></tr>\n",
       "</tbody>\n",
       "</table>\n"
      ],
      "text/latex": [
       "A anova: 2 × 8\n",
       "\\begin{tabular}{r|llllllll}\n",
       "  & npar & AIC & BIC & logLik & deviance & Chisq & Df & Pr(>Chisq)\\\\\n",
       "  & <dbl> & <dbl> & <dbl> & <dbl> & <dbl> & <dbl> & <dbl> & <dbl>\\\\\n",
       "\\hline\n",
       "\tmodel1 & 3 & 1682.925 & 1696.040 & -838.4624 & 1676.925 &       NA & NA &            NA\\\\\n",
       "\tmodel2 & 4 & 1209.902 & 1227.389 & -600.9512 & 1201.902 & 475.0222 &  1 & 2.587638e-105\\\\\n",
       "\\end{tabular}\n"
      ],
      "text/markdown": [
       "\n",
       "A anova: 2 × 8\n",
       "\n",
       "| <!--/--> | npar &lt;dbl&gt; | AIC &lt;dbl&gt; | BIC &lt;dbl&gt; | logLik &lt;dbl&gt; | deviance &lt;dbl&gt; | Chisq &lt;dbl&gt; | Df &lt;dbl&gt; | Pr(&gt;Chisq) &lt;dbl&gt; |\n",
       "|---|---|---|---|---|---|---|---|---|\n",
       "| model1 | 3 | 1682.925 | 1696.040 | -838.4624 | 1676.925 |       NA | NA |            NA |\n",
       "| model2 | 4 | 1209.902 | 1227.389 | -600.9512 | 1201.902 | 475.0222 |  1 | 2.587638e-105 |\n",
       "\n"
      ],
      "text/plain": [
       "       npar AIC      BIC      logLik    deviance Chisq    Df Pr(>Chisq)   \n",
       "model1 3    1682.925 1696.040 -838.4624 1676.925       NA NA            NA\n",
       "model2 4    1209.902 1227.389 -600.9512 1201.902 475.0222  1 2.587638e-105"
      ]
     },
     "metadata": {},
     "output_type": "display_data"
    }
   ],
   "source": [
    "#模型比较\n",
    "anova(model1,model2)"
   ]
  },
  {
   "cell_type": "code",
   "execution_count": 43,
   "metadata": {
    "vscode": {
     "languageId": "r"
    }
   },
   "outputs": [
    {
     "data": {
      "image/png": "[encoded data removed]",
      "text/plain": [
       "plot without title"
      ]
     },
     "metadata": {
      "image/png": {
       "height": 420,
       "width": 420
      }
     },
     "output_type": "display_data"
    }
   ],
   "source": [
    "#可视化\n",
    "library(dplyr)\n",
    "library(ggplot2)\n",
    "DATA %>% \n",
    "  mutate(pred_dist = fitted(model3)) %>% \n",
    "  ggplot(aes(x=RL, y=pred_dist, group=edu, color=edu)) + \n",
    "  theme_classic() +\n",
    "  geom_line(size=1)"
   ]
  }
 ],
 "metadata": {
  "kernelspec": {
   "display_name": "R",
   "language": "R",
   "name": "ir"
  },
  "language_info": {
   "codemirror_mode": "r",
   "file_extension": ".r",
   "mimetype": "text/x-r-source",
   "name": "R",
   "pygments_lexer": "r",
   "version": "4.2.2"
  },
  "orig_nbformat": 4,
  "vscode": {
   "interpreter": {
    "hash": "669e881ad120694801c54fc7a2fb84b8347d29419ddd4cdc4051054a341ea569"
   }
  }
 },
 "nbformat": 4,
 "nbformat_minor": 2
}
